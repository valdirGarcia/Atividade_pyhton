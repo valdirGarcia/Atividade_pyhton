{
 "cells": [
  {
   "cell_type": "markdown",
   "metadata": {
    "id": "njUvbhQmC8-t"
   },
   "source": [
    "## Exercício 1: Vestibular\n",
    "\n",
    "Considere que a os dados gerados na célula abaixo contêm o número de acertos de 100 alunos em um vestibular para um curso de exatas, divididas pelos respectivos assuntos. Considere que cada assunto possui um número de questões conforme a tabela abaixo:\n",
    "\n",
    "| assunto | número de questões |\n",
    "|:---:|:---:|\n",
    "| Matemática | 24 |\n",
    "| Português | 18 |\n",
    "| Geografia | 8 |\n",
    "| Inglês | 8 |\n",
    "| História | 8 |\n",
    "| Física | 12 |\n",
    "| Química | 12 |\n",
    "\n",
    "Usando os comandos de operações com DataFrames que você aprendeu na Aula 03, calcule:\n",
    "\n",
    "1. (operações com escalar) Calcule o percentual de acerto dos alunos por assunto.  \n",
    "2. (operações entre *DataFrames) Calcule o total de acertos de cada aluno.  \n",
    "3. Calcule o porcentual geral de cada aluno.  \n",
    "4. Suponha que a nota de corte para a segunda fase seja 45. Quantos alunos tiveram nota maior que 45?  "
   ]
  },
  {
   "cell_type": "code",
   "execution_count": 3,
   "metadata": {
    "id": "Ll6TadxCC8-y"
   },
   "outputs": [],
   "source": [
    "import pandas as pd\n",
    "import numpy as np\n",
    "\n",
    "np.random.seed(42)\n",
    "df_mat = pd.DataFrame(np.random.randint(24, size=(100, 1)), columns=['Qt_acertos'])\n",
    "\n",
    "df_por = pd.DataFrame(np.random.randint(18, size=(100, 1)), columns=['Qt_acertos'])\n",
    "\n",
    "df_geo = pd.DataFrame(np.random.randint(8, size=(100, 1)), columns=['Qt_acertos'])\n",
    "\n",
    "df_ing = pd.DataFrame(np.random.randint(8, size=(100, 1)), columns=['Qt_acertos'])\n",
    "\n",
    "df_his = pd.DataFrame(np.random.randint(8, size=(100, 1)), columns=['Qt_acertos'])\n",
    "\n",
    "df_fis = pd.DataFrame(np.random.randint(12, size=(100, 1)), columns=['Qt_acertos'])\n",
    "\n",
    "df_qui = pd.DataFrame(np.random.randint(12, size=(100, 1)), columns=['Qt_acertos'])\n",
    "\n"
   ]
  },
  {
   "cell_type": "code",
   "execution_count": 8,
   "metadata": {
    "id": "JVmLXiC2C8-0"
   },
   "outputs": [],
   "source": [
    "# 1) Seu código aqui\n",
    "\n",
    "\n",
    "df_mat['Percentual_acerto'] = (df_mat['Qt_acertos'] / 24) * 100\n",
    "\n",
    "\n",
    "\n",
    "df_por['Percentual_acerto'] = (df_por['Qt_acertos'] / 18) * 100\n",
    "\n",
    "\n",
    "df_geo['Percentual_acerto'] = (df_geo['Qt_acertos'] / 8) * 100\n",
    "\n",
    "\n",
    "df_ing['Percentual_acerto'] = (df_ing['Qt_acertos'] / 8) * 100\n",
    "\n",
    "\n",
    "df_his['Percentual_acerto'] = (df_his['Qt_acertos'] / 8) * 100\n",
    "\n",
    "\n",
    "df_fis['Percentual_acerto'] = (df_fis['Qt_acertos'] / 12) * 100\n",
    "\n",
    "\n",
    "df_qui['Percentual_acerto'] = (df_qui['Qt_acertos'] / 12) * 100\n",
    "\n",
    "\n"
   ]
  },
  {
   "cell_type": "code",
   "execution_count": 11,
   "metadata": {
    "id": "JbTwCyNHC8-1"
   },
   "outputs": [
    {
     "data": {
      "text/html": [
       "<div>\n",
       "<style scoped>\n",
       "    .dataframe tbody tr th:only-of-type {\n",
       "        vertical-align: middle;\n",
       "    }\n",
       "\n",
       "    .dataframe tbody tr th {\n",
       "        vertical-align: top;\n",
       "    }\n",
       "\n",
       "    .dataframe thead th {\n",
       "        text-align: right;\n",
       "    }\n",
       "</style>\n",
       "<table border=\"1\" class=\"dataframe\">\n",
       "  <thead>\n",
       "    <tr style=\"text-align: right;\">\n",
       "      <th></th>\n",
       "      <th>Total_acertos</th>\n",
       "    </tr>\n",
       "  </thead>\n",
       "  <tbody>\n",
       "    <tr>\n",
       "      <th>0</th>\n",
       "      <td>35</td>\n",
       "    </tr>\n",
       "    <tr>\n",
       "      <th>1</th>\n",
       "      <td>48</td>\n",
       "    </tr>\n",
       "    <tr>\n",
       "      <th>2</th>\n",
       "      <td>50</td>\n",
       "    </tr>\n",
       "    <tr>\n",
       "      <th>3</th>\n",
       "      <td>32</td>\n",
       "    </tr>\n",
       "    <tr>\n",
       "      <th>4</th>\n",
       "      <td>30</td>\n",
       "    </tr>\n",
       "    <tr>\n",
       "      <th>...</th>\n",
       "      <td>...</td>\n",
       "    </tr>\n",
       "    <tr>\n",
       "      <th>95</th>\n",
       "      <td>34</td>\n",
       "    </tr>\n",
       "    <tr>\n",
       "      <th>96</th>\n",
       "      <td>27</td>\n",
       "    </tr>\n",
       "    <tr>\n",
       "      <th>97</th>\n",
       "      <td>40</td>\n",
       "    </tr>\n",
       "    <tr>\n",
       "      <th>98</th>\n",
       "      <td>40</td>\n",
       "    </tr>\n",
       "    <tr>\n",
       "      <th>99</th>\n",
       "      <td>42</td>\n",
       "    </tr>\n",
       "  </tbody>\n",
       "</table>\n",
       "<p>100 rows × 1 columns</p>\n",
       "</div>"
      ],
      "text/plain": [
       "    Total_acertos\n",
       "0              35\n",
       "1              48\n",
       "2              50\n",
       "3              32\n",
       "4              30\n",
       "..            ...\n",
       "95             34\n",
       "96             27\n",
       "97             40\n",
       "98             40\n",
       "99             42\n",
       "\n",
       "[100 rows x 1 columns]"
      ]
     },
     "execution_count": 11,
     "metadata": {},
     "output_type": "execute_result"
    }
   ],
   "source": [
    "# 2) Seu código aqui\n",
    "\n",
    "df_total_acertos = pd.DataFrame()\n",
    "\n",
    "df_total_acertos['Total_acertos'] = (\n",
    "    df_mat['Qt_acertos'] + df_por['Qt_acertos'] + df_geo['Qt_acertos'] +\n",
    "    df_ing['Qt_acertos'] + df_his['Qt_acertos'] + df_fis['Qt_acertos'] + df_qui['Qt_acertos']\n",
    ")\n",
    "\n",
    "\n",
    "df_total_acertos\n"
   ]
  },
  {
   "cell_type": "code",
   "execution_count": 12,
   "metadata": {
    "id": "c2L8dJkVC8-3"
   },
   "outputs": [
    {
     "data": {
      "text/html": [
       "<div>\n",
       "<style scoped>\n",
       "    .dataframe tbody tr th:only-of-type {\n",
       "        vertical-align: middle;\n",
       "    }\n",
       "\n",
       "    .dataframe tbody tr th {\n",
       "        vertical-align: top;\n",
       "    }\n",
       "\n",
       "    .dataframe thead th {\n",
       "        text-align: right;\n",
       "    }\n",
       "</style>\n",
       "<table border=\"1\" class=\"dataframe\">\n",
       "  <thead>\n",
       "    <tr style=\"text-align: right;\">\n",
       "      <th></th>\n",
       "      <th>Total_acertos</th>\n",
       "      <th>Percentual_geral</th>\n",
       "    </tr>\n",
       "  </thead>\n",
       "  <tbody>\n",
       "    <tr>\n",
       "      <th>0</th>\n",
       "      <td>35</td>\n",
       "      <td>38.888889</td>\n",
       "    </tr>\n",
       "    <tr>\n",
       "      <th>1</th>\n",
       "      <td>48</td>\n",
       "      <td>53.333333</td>\n",
       "    </tr>\n",
       "    <tr>\n",
       "      <th>2</th>\n",
       "      <td>50</td>\n",
       "      <td>55.555556</td>\n",
       "    </tr>\n",
       "    <tr>\n",
       "      <th>3</th>\n",
       "      <td>32</td>\n",
       "      <td>35.555556</td>\n",
       "    </tr>\n",
       "    <tr>\n",
       "      <th>4</th>\n",
       "      <td>30</td>\n",
       "      <td>33.333333</td>\n",
       "    </tr>\n",
       "    <tr>\n",
       "      <th>...</th>\n",
       "      <td>...</td>\n",
       "      <td>...</td>\n",
       "    </tr>\n",
       "    <tr>\n",
       "      <th>95</th>\n",
       "      <td>34</td>\n",
       "      <td>37.777778</td>\n",
       "    </tr>\n",
       "    <tr>\n",
       "      <th>96</th>\n",
       "      <td>27</td>\n",
       "      <td>30.000000</td>\n",
       "    </tr>\n",
       "    <tr>\n",
       "      <th>97</th>\n",
       "      <td>40</td>\n",
       "      <td>44.444444</td>\n",
       "    </tr>\n",
       "    <tr>\n",
       "      <th>98</th>\n",
       "      <td>40</td>\n",
       "      <td>44.444444</td>\n",
       "    </tr>\n",
       "    <tr>\n",
       "      <th>99</th>\n",
       "      <td>42</td>\n",
       "      <td>46.666667</td>\n",
       "    </tr>\n",
       "  </tbody>\n",
       "</table>\n",
       "<p>100 rows × 2 columns</p>\n",
       "</div>"
      ],
      "text/plain": [
       "    Total_acertos  Percentual_geral\n",
       "0              35         38.888889\n",
       "1              48         53.333333\n",
       "2              50         55.555556\n",
       "3              32         35.555556\n",
       "4              30         33.333333\n",
       "..            ...               ...\n",
       "95             34         37.777778\n",
       "96             27         30.000000\n",
       "97             40         44.444444\n",
       "98             40         44.444444\n",
       "99             42         46.666667\n",
       "\n",
       "[100 rows x 2 columns]"
      ]
     },
     "execution_count": 12,
     "metadata": {},
     "output_type": "execute_result"
    }
   ],
   "source": [
    "# 3) Seu código aqui\n",
    "\n",
    "total_questoes = 24 + 18 + 8 + 8 + 8 + 12 + 12  \n",
    "\n",
    "df_total_acertos['Percentual_geral'] = (df_total_acertos['Total_acertos'] / total_questoes) * 100\n",
    "\n",
    "df_total_acertos\n"
   ]
  },
  {
   "cell_type": "code",
   "execution_count": 13,
   "metadata": {
    "id": "PZTZ7DFzC8-3"
   },
   "outputs": [
    {
     "name": "stdout",
     "output_type": "stream",
     "text": [
      "Número de alunos com nota maior que 45 na segunda fase: 47\n"
     ]
    }
   ],
   "source": [
    "# 4) Seu código aqui\n",
    "\n",
    "nota_corte = 45\n",
    "\n",
    "alunos_aprovados = df_total_acertos[df_total_acertos['Percentual_geral'] > nota_corte]\n",
    "\n",
    "num_alunos_aprovados = len(alunos_aprovados)\n",
    "\n",
    "print(\"Número de alunos com nota maior que 45 na segunda fase:\", num_alunos_aprovados)\n",
    "\n"
   ]
  },
  {
   "cell_type": "markdown",
   "metadata": {
    "id": "Hlfl75XXC8-4"
   },
   "source": [
    "## 2) Vestibular II\n",
    "\n",
    "Ainda sobre o mesmo banco de dados:\n",
    "\n",
    "1. Neste vestibular, quem 'zera' em matemática, física ou química está desqualificado. Monte um novo *DataFrame* com os alunos desqualificados por este critério.\n",
    "2. Quantos são esses alunos?\n",
    "3. Qual a média desses alunos em história e geografia?\n",
    "4. Monte um *DataFrame* com os alunos que passaram para a segunda fase. Repare que estes alunos não podem ter sido desqualificados."
   ]
  },
  {
   "cell_type": "code",
   "execution_count": 21,
   "metadata": {
    "id": "hPaMGXvJC8-4"
   },
   "outputs": [
    {
     "data": {
      "text/plain": [
       "História     3.434783\n",
       "Geografia    3.217391\n",
       "dtype: float64"
      ]
     },
     "execution_count": 21,
     "metadata": {},
     "output_type": "execute_result"
    }
   ],
   "source": [
    "# seu código aqui\n",
    "\n",
    "df_total_acertos['Matemática'] = df_mat['Qt_acertos']\n",
    "df_total_acertos['Português'] = df_por['Qt_acertos']\n",
    "df_total_acertos['Geografia'] = df_geo['Qt_acertos']\n",
    "df_total_acertos['Inglês'] = df_ing['Qt_acertos']\n",
    "df_total_acertos['História'] = df_his['Qt_acertos']\n",
    "df_total_acertos['Física'] = df_fis['Qt_acertos']\n",
    "df_total_acertos['Química'] = df_qui['Qt_acertos']\n",
    "\n",
    "\n"
   ]
  },
  {
   "cell_type": "code",
   "execution_count": null,
   "metadata": {},
   "outputs": [],
   "source": [
    "# 1\n",
    "\n",
    "alunos_desqualificados = df_total_acertos[\n",
    "    (df_total_acertos['Matemática'] == 0) |\n",
    "    (df_total_acertos['Física'] == 0) |\n",
    "    (df_total_acertos['Química'] == 0)\n",
    "]"
   ]
  },
  {
   "cell_type": "code",
   "execution_count": null,
   "metadata": {},
   "outputs": [],
   "source": [
    "# 2\n",
    "\n",
    "qtd_fora = len(alunos_desqualificados) \n",
    "\n",
    "qtd_fora"
   ]
  },
  {
   "cell_type": "code",
   "execution_count": null,
   "metadata": {},
   "outputs": [],
   "source": [
    "# 3\n",
    "\n",
    "media_hist_geo = alunos_desqualificados[['História', 'Geografia']].mean() \n",
    "\n",
    "media_hist_geo"
   ]
  },
  {
   "cell_type": "code",
   "execution_count": 22,
   "metadata": {},
   "outputs": [
    {
     "data": {
      "text/html": [
       "<div>\n",
       "<style scoped>\n",
       "    .dataframe tbody tr th:only-of-type {\n",
       "        vertical-align: middle;\n",
       "    }\n",
       "\n",
       "    .dataframe tbody tr th {\n",
       "        vertical-align: top;\n",
       "    }\n",
       "\n",
       "    .dataframe thead th {\n",
       "        text-align: right;\n",
       "    }\n",
       "</style>\n",
       "<table border=\"1\" class=\"dataframe\">\n",
       "  <thead>\n",
       "    <tr style=\"text-align: right;\">\n",
       "      <th></th>\n",
       "      <th>Total_acertos</th>\n",
       "      <th>Percentual_geral</th>\n",
       "      <th>Matemática</th>\n",
       "      <th>Português</th>\n",
       "      <th>Geografia</th>\n",
       "      <th>Inglês</th>\n",
       "      <th>História</th>\n",
       "      <th>Física</th>\n",
       "      <th>Química</th>\n",
       "    </tr>\n",
       "  </thead>\n",
       "  <tbody>\n",
       "    <tr>\n",
       "      <th>0</th>\n",
       "      <td>35</td>\n",
       "      <td>38.888889</td>\n",
       "      <td>6</td>\n",
       "      <td>7</td>\n",
       "      <td>7</td>\n",
       "      <td>3</td>\n",
       "      <td>1</td>\n",
       "      <td>8</td>\n",
       "      <td>3</td>\n",
       "    </tr>\n",
       "    <tr>\n",
       "      <th>1</th>\n",
       "      <td>48</td>\n",
       "      <td>53.333333</td>\n",
       "      <td>19</td>\n",
       "      <td>10</td>\n",
       "      <td>0</td>\n",
       "      <td>0</td>\n",
       "      <td>0</td>\n",
       "      <td>11</td>\n",
       "      <td>8</td>\n",
       "    </tr>\n",
       "    <tr>\n",
       "      <th>2</th>\n",
       "      <td>50</td>\n",
       "      <td>55.555556</td>\n",
       "      <td>14</td>\n",
       "      <td>16</td>\n",
       "      <td>0</td>\n",
       "      <td>5</td>\n",
       "      <td>7</td>\n",
       "      <td>4</td>\n",
       "      <td>4</td>\n",
       "    </tr>\n",
       "    <tr>\n",
       "      <th>4</th>\n",
       "      <td>30</td>\n",
       "      <td>33.333333</td>\n",
       "      <td>7</td>\n",
       "      <td>2</td>\n",
       "      <td>2</td>\n",
       "      <td>7</td>\n",
       "      <td>0</td>\n",
       "      <td>9</td>\n",
       "      <td>3</td>\n",
       "    </tr>\n",
       "    <tr>\n",
       "      <th>5</th>\n",
       "      <td>50</td>\n",
       "      <td>55.555556</td>\n",
       "      <td>20</td>\n",
       "      <td>2</td>\n",
       "      <td>5</td>\n",
       "      <td>3</td>\n",
       "      <td>2</td>\n",
       "      <td>9</td>\n",
       "      <td>9</td>\n",
       "    </tr>\n",
       "    <tr>\n",
       "      <th>...</th>\n",
       "      <td>...</td>\n",
       "      <td>...</td>\n",
       "      <td>...</td>\n",
       "      <td>...</td>\n",
       "      <td>...</td>\n",
       "      <td>...</td>\n",
       "      <td>...</td>\n",
       "      <td>...</td>\n",
       "      <td>...</td>\n",
       "    </tr>\n",
       "    <tr>\n",
       "      <th>93</th>\n",
       "      <td>56</td>\n",
       "      <td>62.222222</td>\n",
       "      <td>12</td>\n",
       "      <td>16</td>\n",
       "      <td>5</td>\n",
       "      <td>5</td>\n",
       "      <td>6</td>\n",
       "      <td>6</td>\n",
       "      <td>6</td>\n",
       "    </tr>\n",
       "    <tr>\n",
       "      <th>95</th>\n",
       "      <td>34</td>\n",
       "      <td>37.777778</td>\n",
       "      <td>6</td>\n",
       "      <td>4</td>\n",
       "      <td>7</td>\n",
       "      <td>1</td>\n",
       "      <td>4</td>\n",
       "      <td>9</td>\n",
       "      <td>3</td>\n",
       "    </tr>\n",
       "    <tr>\n",
       "      <th>96</th>\n",
       "      <td>27</td>\n",
       "      <td>30.000000</td>\n",
       "      <td>8</td>\n",
       "      <td>1</td>\n",
       "      <td>4</td>\n",
       "      <td>6</td>\n",
       "      <td>1</td>\n",
       "      <td>4</td>\n",
       "      <td>3</td>\n",
       "    </tr>\n",
       "    <tr>\n",
       "      <th>97</th>\n",
       "      <td>40</td>\n",
       "      <td>44.444444</td>\n",
       "      <td>23</td>\n",
       "      <td>5</td>\n",
       "      <td>0</td>\n",
       "      <td>2</td>\n",
       "      <td>4</td>\n",
       "      <td>1</td>\n",
       "      <td>5</td>\n",
       "    </tr>\n",
       "    <tr>\n",
       "      <th>99</th>\n",
       "      <td>42</td>\n",
       "      <td>46.666667</td>\n",
       "      <td>11</td>\n",
       "      <td>15</td>\n",
       "      <td>0</td>\n",
       "      <td>1</td>\n",
       "      <td>6</td>\n",
       "      <td>7</td>\n",
       "      <td>2</td>\n",
       "    </tr>\n",
       "  </tbody>\n",
       "</table>\n",
       "<p>77 rows × 9 columns</p>\n",
       "</div>"
      ],
      "text/plain": [
       "    Total_acertos  Percentual_geral  Matemática  Português  Geografia  Inglês  \\\n",
       "0              35         38.888889           6          7          7       3   \n",
       "1              48         53.333333          19         10          0       0   \n",
       "2              50         55.555556          14         16          0       5   \n",
       "4              30         33.333333           7          2          2       7   \n",
       "5              50         55.555556          20          2          5       3   \n",
       "..            ...               ...         ...        ...        ...     ...   \n",
       "93             56         62.222222          12         16          5       5   \n",
       "95             34         37.777778           6          4          7       1   \n",
       "96             27         30.000000           8          1          4       6   \n",
       "97             40         44.444444          23          5          0       2   \n",
       "99             42         46.666667          11         15          0       1   \n",
       "\n",
       "    História  Física  Química  \n",
       "0          1       8        3  \n",
       "1          0      11        8  \n",
       "2          7       4        4  \n",
       "4          0       9        3  \n",
       "5          2       9        9  \n",
       "..       ...     ...      ...  \n",
       "93         6       6        6  \n",
       "95         4       9        3  \n",
       "96         1       4        3  \n",
       "97         4       1        5  \n",
       "99         6       7        2  \n",
       "\n",
       "[77 rows x 9 columns]"
      ]
     },
     "execution_count": 22,
     "metadata": {},
     "output_type": "execute_result"
    }
   ],
   "source": [
    "# 4\n",
    "\n",
    "alunos_segunda_fase = df_total_acertos[\n",
    "    ~(df_total_acertos.index.isin(alunos_desqualificados.index))\n",
    "]\n",
    "\n",
    "alunos_segunda_fase\n"
   ]
  },
  {
   "cell_type": "markdown",
   "metadata": {
    "id": "EGBUWpAHC8-5"
   },
   "source": [
    "## 3) Vacinações no Acre\n",
    "Vamos trabalhar agora com a base de vacinações no Acre. Para facilitar a sua vida, copiamos o link do arquivo na célula abaixo.\n",
    "\n",
    "1. Quantas vacinas estão registradas nessa base?  \n",
    "2. Quantos pacientes foram vacinados? (considere um paciente para cada valor único de ```paciente_id```)  \n",
    "3. Quantos pacientes únicos tomaram a primeira dose? OBS: Há um caractere especial neste campo. Receba os valores do campo com o método ```.unique()```.   \n",
    "4. Quantos pacientes com menos de 18 anos foram vacinados?  \n",
    "5. Quantos estabelecimentos aplicaram vacina no Acre?\n",
    "\n",
    "\n",
    "**OBS:** O portal do DATASUS pode apresentar instabilidades, retornando um erro na segunda célula abaixo. Por este motivo está disponível uma base estática, que se for baixada para o seu *working directory* pode ser lida com este comando: ```df = pd.read_csv('registros de vacinacao covid ACRE.csv', sep=';')```.\n",
    "\n",
    "**OBS2:** Para saber qual é o seu working directory, rode no jupyter: ```!pwd```."
   ]
  },
  {
   "cell_type": "code",
   "execution_count": 23,
   "metadata": {
    "id": "ET4r139hC8-5"
   },
   "outputs": [],
   "source": [
    "arquivo = 'https://s3-sa-east-1.amazonaws.com/ckan.saude.gov.br/PNI/vacina/uf/2021-05-23/uf%3DAC/part-00000-63e5bee2-3684-4286-b709-7fe85483b04e.c000.csv'"
   ]
  },
  {
   "cell_type": "code",
   "execution_count": 48,
   "metadata": {
    "id": "SC9YMWLSC8-6"
   },
   "outputs": [
    {
     "data": {
      "text/plain": [
       "381196"
      ]
     },
     "execution_count": 48,
     "metadata": {},
     "output_type": "execute_result"
    }
   ],
   "source": [
    "# 1) Sua solução aqui\n",
    "\n",
    "df = pd.read_csv('vacina.csv',sep=';')\n",
    "\n",
    "numero_de_vacinas = len(df)\n",
    "\n",
    "numero_de_vacinas"
   ]
  },
  {
   "cell_type": "code",
   "execution_count": 51,
   "metadata": {
    "id": "PMztY1RlC8-7"
   },
   "outputs": [
    {
     "name": "stdout",
     "output_type": "stream",
     "text": [
      "312524\n"
     ]
    }
   ],
   "source": [
    "# 2)\n",
    "\n",
    "numero_de_pacientes_vacinados = df['paciente_id'].nunique()\n",
    "\n",
    "print(numero_de_pacientes_vacinados)\n"
   ]
  },
  {
   "cell_type": "code",
   "execution_count": 57,
   "metadata": {
    "id": "V_wr--3JC8-7"
   },
   "outputs": [
    {
     "name": "stdout",
     "output_type": "stream",
     "text": [
      "O número de estabelecimentos que aplicaram vacinas no Acre é: 210\n"
     ]
    }
   ],
   "source": [
    "# 3)\n"
   ]
  },
  {
   "cell_type": "code",
   "execution_count": null,
   "metadata": {
    "id": "SPHgIxtcC8-7"
   },
   "outputs": [],
   "source": [
    "# 3) solução alternativa\n",
    "\n",
    "# Filtrando apenas os registros da primeira dose\n",
    "primeira_dose = df[df['vacina_descricao_dose'] == 'Primeira Dose']\n",
    "\n",
    "# Obtendo os valores únicos de paciente_id para a primeira dose\n",
    "pacientes_primeira_dose = primeira_dose['paciente_id'].unique()\n",
    "\n",
    "# Contando o número de pacientes únicos que tomaram a primeira dose\n",
    "numero_de_pacientes_primeira_dose = len(pacientes_primeira_dose)\n",
    "\n",
    "print(\"O número de pacientes únicos que tomaram a primeira dose é:\", numero_de_pacientes_primeira_dose)\n"
   ]
  },
  {
   "cell_type": "code",
   "execution_count": 56,
   "metadata": {
    "id": "S6ab9ExEC8-7"
   },
   "outputs": [
    {
     "name": "stdout",
     "output_type": "stream",
     "text": [
      "O número de pacientes com menos de 18 anos vacinados é: 65600\n"
     ]
    }
   ],
   "source": [
    "# 4)\n",
    "\n",
    "\n",
    "pacientes_menos_de_18 = df[df['paciente_idade'] < 18]\n",
    "\n",
    "numero_de_pacientes_menos_de_18 = len(pacientes_menos_de_18['paciente_id'].unique())\n",
    "\n",
    "print(\"O número de pacientes com menos de 18 anos vacinados é:\", numero_de_pacientes_menos_de_18)\n"
   ]
  },
  {
   "cell_type": "code",
   "execution_count": 58,
   "metadata": {
    "id": "PVrY_-qlC8-8"
   },
   "outputs": [
    {
     "name": "stdout",
     "output_type": "stream",
     "text": [
      "O número de estabelecimentos que aplicaram vacinas no Acre é: 210\n"
     ]
    }
   ],
   "source": [
    "# 5)\n",
    "\n",
    "numero_de_estabelecimentos = df['estalecimento_noFantasia'].nunique()\n",
    "\n",
    "print(\"O número de estabelecimentos que aplicaram vacinas no Acre é:\", numero_de_estabelecimentos)"
   ]
  },
  {
   "cell_type": "markdown",
   "metadata": {
    "id": "LH1LSYvGC8-8"
   },
   "source": [
    "## 4) Vacinação II\n",
    "Gere um *DataFrame* que contenha somente os estabelecimentos que aplicaram vcinas a menores de 18 anos. Nesse *DataFrame* devem conter somente os dados dos estabelecimentos, mais uma coluna sendo a quantidade de vacinas que o estabelecimento aplicou a menores de 18 anos.  \n",
    "  \n",
    "1. crie uma cópia do *DataFrame* original, contendo somente os registros de vacinas realizadas a menores de 18 anos.  \n",
    "2. crie uma lista das colunas desse *DataFrame* com o atributo de *DataFrame* **.columns()**  \n",
    "3. Nesse *DataFrame* faça uma contagem do campo ```vacina_categoria_nome```.\n",
    "3. a partir da lista de colunas, escolha somente aquelas que são referentes ao estabelecimento, faça uma lista com esses valores.  \n",
    "4. usando o método *.loc*, selecione somente essas variáveis  \n",
    "5. Aplique o método **.drop_duplicates** e crie uma lista com uma linha para cada estabelecimento, com os dados do estabelecimento  "
   ]
  },
  {
   "cell_type": "code",
   "execution_count": 62,
   "metadata": {
    "id": "3ojs12vUC8-8"
   },
   "outputs": [],
   "source": [
    "# 1)\n",
    "\n",
    "vacinas_menores_18 = df[df['paciente_idade'] < 18].copy()\n",
    "\n",
    "\n",
    "\n"
   ]
  },
  {
   "cell_type": "code",
   "execution_count": 64,
   "metadata": {
    "id": "sLyevPRBC8-8"
   },
   "outputs": [
    {
     "data": {
      "text/plain": [
       "['document_id',\n",
       " 'paciente_id',\n",
       " 'paciente_idade',\n",
       " 'paciente_dataNascimento',\n",
       " 'paciente_enumSexoBiologico',\n",
       " 'paciente_racaCor_codigo',\n",
       " 'paciente_racaCor_valor',\n",
       " 'paciente_endereco_coIbgeMunicipio',\n",
       " 'paciente_endereco_coPais',\n",
       " 'paciente_endereco_nmMunicipio',\n",
       " 'paciente_endereco_nmPais',\n",
       " 'paciente_endereco_uf',\n",
       " 'paciente_endereco_cep',\n",
       " 'paciente_nacionalidade_enumNacionalidade',\n",
       " 'estabelecimento_valor',\n",
       " 'estabelecimento_razaoSocial',\n",
       " 'estalecimento_noFantasia',\n",
       " 'estabelecimento_municipio_codigo',\n",
       " 'estabelecimento_municipio_nome',\n",
       " 'estabelecimento_uf',\n",
       " 'vacina_grupoAtendimento_codigo',\n",
       " 'vacina_grupoAtendimento_nome',\n",
       " 'vacina_categoria_codigo',\n",
       " 'vacina_categoria_nome',\n",
       " 'vacina_lote',\n",
       " 'vacina_fabricante_nome',\n",
       " 'vacina_fabricante_referencia',\n",
       " 'vacina_dataAplicacao',\n",
       " 'vacina_descricao_dose',\n",
       " 'vacina_codigo',\n",
       " 'vacina_nome',\n",
       " 'sistema_origem']"
      ]
     },
     "execution_count": 64,
     "metadata": {},
     "output_type": "execute_result"
    }
   ],
   "source": [
    "# 2)\n",
    "\n",
    "\n",
    "lista_colunas = vacinas_menores_18.columns.tolist()\n",
    "\n",
    "lista_colunas\n",
    "\n"
   ]
  },
  {
   "cell_type": "code",
   "execution_count": 65,
   "metadata": {
    "id": "lZAW-Dp8C8-8"
   },
   "outputs": [
    {
     "name": "stdout",
     "output_type": "stream",
     "text": [
      "Contagem de cada categoria de vacina:\n",
      "vacina_categoria_nome\n",
      "Faixa Etária                                      45042\n",
      "Povos Indígenas                                    4104\n",
      "Outros                                             3697\n",
      "Povos e Comunidades Tradicionais                    682\n",
      "Trabalhadores de Saúde                              238\n",
      "Comorbidades                                         56\n",
      "População Privada de Liberdade                       51\n",
      "Gestantes                                            39\n",
      "Pessoas com Deficiência                              11\n",
      "Pessoas Institucionalizadas                           3\n",
      "Pessoas de 60 anos ou mais institucionalizadas        1\n",
      "Puérperas                                             1\n",
      "Trabalhadores da Educação                             1\n",
      "Name: count, dtype: int64\n"
     ]
    }
   ],
   "source": [
    "# 3)\n",
    "\n",
    "contagem_categoria_vacina = vacinas_menores_18['vacina_categoria_nome'].value_counts()\n",
    "\n",
    "print(\"Contagem de cada categoria de vacina:\")\n",
    "print(contagem_categoria_vacina)\n"
   ]
  },
  {
   "cell_type": "code",
   "execution_count": 66,
   "metadata": {
    "id": "xxYsxrxAC8-8"
   },
   "outputs": [],
   "source": [
    "# 4)\n",
    "\n",
    "colunas_estabelecimento = ['estabelecimento_valor', 'estabelecimento_razaoSocial', 'estalecimento_noFantasia', 'estabelecimento_municipio_codigo', 'estabelecimento_municipio_nome', 'estabelecimento_uf']\n",
    "\n"
   ]
  },
  {
   "cell_type": "code",
   "execution_count": 68,
   "metadata": {
    "id": "vaX2x_0rC8-8"
   },
   "outputs": [],
   "source": [
    "# 5)\n",
    "\n",
    "dados_estabelecimento = vacinas_menores_18[colunas_estabelecimento]\n",
    "\n",
    "dados_estabelecimento_unicos = dados_estabelecimento.drop_duplicates()\n",
    "\n",
    "lista_estabelecimentos = dados_estabelecimento_unicos.to_dict(orient='records')\n",
    "\n",
    "print(lista_estabelecimentos)\n"
   ]
  },
  {
   "cell_type": "code",
   "execution_count": null,
   "metadata": {},
   "outputs": [],
   "source": []
  }
 ],
 "metadata": {
  "colab": {
   "provenance": []
  },
  "kernelspec": {
   "display_name": "Python 3 (ipykernel)",
   "language": "python",
   "name": "python3"
  },
  "language_info": {
   "codemirror_mode": {
    "name": "ipython",
    "version": 3
   },
   "file_extension": ".py",
   "mimetype": "text/x-python",
   "name": "python",
   "nbconvert_exporter": "python",
   "pygments_lexer": "ipython3",
   "version": "3.11.5"
  },
  "toc": {
   "base_numbering": 1,
   "nav_menu": {},
   "number_sections": false,
   "sideBar": true,
   "skip_h1_title": true,
   "title_cell": "Índice",
   "title_sidebar": "Conteúdo",
   "toc_cell": false,
   "toc_position": {},
   "toc_section_display": true,
   "toc_window_display": false
  },
  "varInspector": {
   "cols": {
    "lenName": 16,
    "lenType": 16,
    "lenVar": 40
   },
   "kernels_config": {
    "python": {
     "delete_cmd_postfix": "",
     "delete_cmd_prefix": "del ",
     "library": "var_list.py",
     "varRefreshCmd": "print(var_dic_list())"
    },
    "r": {
     "delete_cmd_postfix": ") ",
     "delete_cmd_prefix": "rm(",
     "library": "var_list.r",
     "varRefreshCmd": "cat(var_dic_list()) "
    }
   },
   "types_to_exclude": [
    "module",
    "function",
    "builtin_function_or_method",
    "instance",
    "_Feature"
   ],
   "window_display": false
  }
 },
 "nbformat": 4,
 "nbformat_minor": 1
}
